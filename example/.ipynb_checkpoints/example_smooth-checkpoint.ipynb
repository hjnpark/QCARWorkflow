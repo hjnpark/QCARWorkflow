{
 "cells": [
  {
   "cell_type": "code",
   "execution_count": 1,
   "id": "prime-works",
   "metadata": {},
   "outputs": [
    {
     "name": "stdout",
     "output_type": "stream",
     "text": [
      "Client is ready\n"
     ]
    }
   ],
   "source": [
    "from QCARWorkflow.qcaw import Workflow, User, Dataset\n",
    "\n",
    "client = User(user = \"User1\", password = \"1234\").server()\n",
    "client.list_collections() # This will show all the dataset the User1 has."
   ]
  },
  {
   "cell_type": "code",
   "execution_count": 3,
   "id": "sonic-video",
   "metadata": {},
   "outputs": [
    {
     "name": "stdout",
     "output_type": "stream",
     "text": [
      "'test' dataset has been loaded.\n",
      "Smoothing Procedure is running. NEB ready xyz files will be generated once the smoothing procedure is done.\n",
      "'test2' dataset has been loaded.\n",
      "Smoothing Procedure is running. NEB ready xyz files will be generated once the smoothing procedure is done.\n"
     ]
    }
   ],
   "source": [
    "ds = Dataset(\"test\", ds_type = \"OptimizationDataset\", client=client).setting(\"load\") # loading an OptimizationData set named 'test'.\n",
    "Workflow(ds = ds, client = client, spec_name = \"spec_test\", initial = \"HCN.xyz\").smoothing() # Workflow class and smoothing function\n",
    "\n",
    "# We can smooth the other pathway\n",
    "ds_2 = Dataset(\"test2\", ds_type = \"OptimizationDataset\", client=client).setting(\"load\")\n",
    "Workflow(ds = ds_2, client = client, spec_name = \"spec_test2\", initial = \"H2O_proton.xyz\").smoothing()"
   ]
  },
  {
   "cell_type": "code",
   "execution_count": null,
   "id": "exterior-candy",
   "metadata": {},
   "outputs": [],
   "source": []
  }
 ],
 "metadata": {
  "kernelspec": {
   "display_name": "Python 3",
   "language": "python",
   "name": "python3"
  },
  "language_info": {
   "codemirror_mode": {
    "name": "ipython",
    "version": 3
   },
   "file_extension": ".py",
   "mimetype": "text/x-python",
   "name": "python",
   "nbconvert_exporter": "python",
   "pygments_lexer": "ipython3",
   "version": "3.7.9"
  }
 },
 "nbformat": 4,
 "nbformat_minor": 5
}
